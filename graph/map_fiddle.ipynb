{
 "cells": [
  {
   "cell_type": "code",
   "execution_count": 1,
   "metadata": {},
   "outputs": [],
   "source": [
    "from graphframes import GraphFrame"
   ]
  },
  {
   "cell_type": "code",
   "execution_count": 2,
   "metadata": {},
   "outputs": [],
   "source": [
    "from pyspark.sql.functions import desc, expr"
   ]
  },
  {
   "cell_type": "code",
   "execution_count": 3,
   "metadata": {},
   "outputs": [],
   "source": [
    "rides = spark.read.csv('gs://capstone-231016/ride/*.csv', header=True)\n",
    "# rides = spark.read.csv('gs://capstone-231016/ride/2013-08 - Citi Bike trip data.csv', header=True)"
   ]
  },
  {
   "cell_type": "code",
   "execution_count": 4,
   "metadata": {},
   "outputs": [],
   "source": [
    "vertices = rides.select('start station id', 'start station name')\\\n",
    "    .withColumnRenamed('start station id', 'id')\\\n",
    "    .withColumnRenamed('start station name', 'name')\\\n",
    "    .distinct()\n",
    "edges = rides.select('start station id', 'end station id')\\\n",
    "    .withColumnRenamed('start station id', 'src')\\\n",
    "    .withColumnRenamed('end station id', 'dst')"
   ]
  },
  {
   "cell_type": "code",
   "execution_count": 5,
   "metadata": {},
   "outputs": [],
   "source": [
    "g = GraphFrame(vertices, edges)"
   ]
  },
  {
   "cell_type": "code",
   "execution_count": 6,
   "metadata": {},
   "outputs": [
    {
     "data": {
      "text/plain": [
       "GraphFrame(v:[id: string, name: string], e:[src: string, dst: string])"
      ]
     },
     "execution_count": 6,
     "metadata": {},
     "output_type": "execute_result"
    }
   ],
   "source": [
    "g.cache()"
   ]
  },
  {
   "cell_type": "code",
   "execution_count": 7,
   "metadata": {},
   "outputs": [
    {
     "data": {
      "text/plain": [
       "908"
      ]
     },
     "execution_count": 7,
     "metadata": {},
     "output_type": "execute_result"
    }
   ],
   "source": [
    "g.vertices.count()"
   ]
  },
  {
   "cell_type": "code",
   "execution_count": 8,
   "metadata": {},
   "outputs": [
    {
     "data": {
      "text/plain": [
       "53844385"
      ]
     },
     "execution_count": 8,
     "metadata": {},
     "output_type": "execute_result"
    }
   ],
   "source": [
    "g.edges.count()"
   ]
  },
  {
   "cell_type": "code",
   "execution_count": null,
   "metadata": {},
   "outputs": [],
   "source": []
  },
  {
   "cell_type": "markdown",
   "metadata": {},
   "source": [
    "<h2>Top Visitor Locations"
   ]
  },
  {
   "cell_type": "code",
   "execution_count": 197,
   "metadata": {},
   "outputs": [],
   "source": [
    "circle = g.edges.where('src == dst').groupBy('src').count().withColumnRenamed('count', 'num')\n",
    "total = g.edges.groupBy('src').count().withColumnRenamed('count', 'denom')"
   ]
  },
  {
   "cell_type": "code",
   "execution_count": 200,
   "metadata": {},
   "outputs": [],
   "source": [
    "import pyspark.sql.functions as F\n",
    "\n",
    "visitor = circle.join(total, ['src']) \\\n",
    "    .withColumn('percent', (F.col('num')/F.col('denom')))\\\n",
    "    .select('src', 'percent')\\\n",
    "    .join(g.vertices, circle.src == vertices.id)\\\n",
    "    .select('src', 'name', 'percent')\\\n",
    "    .orderBy('percent', ascending=False)\n",
    "\n",
    "visitor\\\n",
    "    .repartition(1)\\\n",
    "    .write.format('com.databricks.spark.csv')\\\n",
    "    .option('header', 'true')\\\n",
    "    .save('gs://capstone-231016/s/visitor')"
   ]
  },
  {
   "cell_type": "markdown",
   "metadata": {},
   "source": [
    "<h2>Page Rank"
   ]
  },
  {
   "cell_type": "code",
   "execution_count": 9,
   "metadata": {},
   "outputs": [],
   "source": [
    "ranks = g.pageRank(resetProbability=0.15, maxIter=2)\n",
    "ranks = ranks.vertices\\\n",
    "    .orderBy(desc('pagerank'))\\\n",
    "    .select('id', 'name', 'pagerank')"
   ]
  },
  {
   "cell_type": "code",
   "execution_count": 10,
   "metadata": {},
   "outputs": [
    {
     "name": "stdout",
     "output_type": "stream",
     "text": [
      "+----+------------------------+------------------+\n",
      "|id  |name                    |pagerank          |\n",
      "+----+------------------------+------------------+\n",
      "|519 |E 42 St & Vanderbilt Ave|11.673778462572699|\n",
      "|519 |Pershing Square North   |11.673778462572699|\n",
      "|519 |Pershing Square N       |11.673778462572699|\n",
      "|3016|Kent Ave & N 7 St       |4.53481183782187  |\n",
      "|3016|Mobile 01               |4.53481183782187  |\n",
      "|517 |Pershing Square S       |4.134364841109948 |\n",
      "|517 |E 41 St & Madison Ave   |4.134364841109948 |\n",
      "|517 |Pershing Square South   |4.134364841109948 |\n",
      "|532 |S 5 Pl & S 4 St         |3.916160807527277 |\n",
      "|532 |S 5 Pl & S 5 St         |3.916160807527277 |\n",
      "|504 |1 Ave & E 15 St         |3.58390525866511  |\n",
      "|504 |1 Ave & E 16 St         |3.58390525866511  |\n",
      "|468 |Broadway & W 56 St      |3.434931389065668 |\n",
      "|468 |Broadway & W 55 St      |3.434931389065668 |\n",
      "|527 |E 33 St & 1 Ave         |3.4003469859324356|\n",
      "|527 |E 33 St & 2 Ave         |3.4003469859324356|\n",
      "|2006|Central Park S & 6 Ave  |3.39589100390818  |\n",
      "|497 |E 17 St & Broadway      |3.3512340711823865|\n",
      "|387 |Centre St & Chambers St |3.3055996241989827|\n",
      "|347 |W Houston St & Hudson St|3.2542264248990804|\n",
      "+----+------------------------+------------------+\n",
      "only showing top 20 rows\n",
      "\n"
     ]
    }
   ],
   "source": [
    "ranks.show(20, False)"
   ]
  },
  {
   "cell_type": "code",
   "execution_count": 11,
   "metadata": {},
   "outputs": [],
   "source": [
    "ranks\\\n",
    "    .repartition(1)\\\n",
    "    .write.format('com.databricks.spark.csv')\\\n",
    "    .option('header', 'true')\\\n",
    "    .save('gs://capstone-231016/s/ranks')"
   ]
  },
  {
   "cell_type": "code",
   "execution_count": null,
   "metadata": {},
   "outputs": [],
   "source": []
  },
  {
   "cell_type": "markdown",
   "metadata": {},
   "source": [
    "<h2>In vs Out"
   ]
  },
  {
   "cell_type": "code",
   "execution_count": 14,
   "metadata": {},
   "outputs": [],
   "source": [
    "inDeg = g.inDegrees\n",
    "outDeg = g.outDegrees\n",
    "ratio = inDeg.join(outDeg, 'id')\\\n",
    "    .selectExpr('id', 'double(inDegree)/double(outDegree) AS ratio')\\\n",
    "\n",
    "ratio = ratio.join(g.vertices, ['id']) \\\n",
    "    .select('id', 'name', 'ratio') \\\n",
    "    .orderBy(desc('ratio'))"
   ]
  },
  {
   "cell_type": "code",
   "execution_count": 15,
   "metadata": {},
   "outputs": [
    {
     "name": "stdout",
     "output_type": "stream",
     "text": [
      "+----+---------------------------------------------+------------------+\n",
      "|id  |name                                         |ratio             |\n",
      "+----+---------------------------------------------+------------------+\n",
      "|3250|NYCBS Depot - PIT                            |11.926829268292684|\n",
      "|3219|NYCBS Depot - STY                            |4.120743034055727 |\n",
      "|3240|NYCBS Depot BAL - DYR                        |3.7450980392156863|\n",
      "|3432|Bike in Movie Night | Prospect Park Bandshell|2.874747474747475 |\n",
      "|3432|NYCBS Depot - GOW                            |2.874747474747475 |\n",
      "|3636|Expansion Warehouse 333 Johnson Ave          |2.090909090909091 |\n",
      "|3468|NYCBS Depot - STY - Garage 4                 |2.0430622009569377|\n",
      "|3631|Crown St & Bedford Ave                       |2.0               |\n",
      "|3543|Morningside Dr & Amsterdam Ave               |2.0               |\n",
      "|3446|NYCBS Depot - STY - Valet Scan               |2.0               |\n",
      "|3385|2 Ave & E 105 St                             |2.0               |\n",
      "|3019|NYCBS Depot - DEL                            |1.8831908831908832|\n",
      "|3485|NYCBS Depot - RIS                            |1.5384615384615385|\n",
      "|3248|LPI Facility                                 |1.5               |\n",
      "|3017|NYCBS Depot - FAR                            |1.4888059701492538|\n",
      "|3252|Bike The Branches - Red Hook Branch          |1.45              |\n",
      "|3245|Industry City, Building 1 Basement           |1.4003189792663477|\n",
      "|3245|NYCBS DEPOT - DELANCEY                       |1.4003189792663477|\n",
      "|3245|Kiosk in a box Motivate                      |1.4003189792663477|\n",
      "|324 |DeKalb Ave & Hudson Ave                      |1.390114389876628 |\n",
      "+----+---------------------------------------------+------------------+\n",
      "only showing top 20 rows\n",
      "\n"
     ]
    }
   ],
   "source": [
    "ratio.show(20, False)"
   ]
  },
  {
   "cell_type": "code",
   "execution_count": 16,
   "metadata": {},
   "outputs": [],
   "source": [
    "ratio\\\n",
    "    .repartition(1)\\\n",
    "    .write.format('com.databricks.spark.csv')\\\n",
    "    .option('header', 'true')\\\n",
    "    .save('gs://capstone-231016/s/ratio')"
   ]
  },
  {
   "cell_type": "code",
   "execution_count": null,
   "metadata": {},
   "outputs": [],
   "source": []
  },
  {
   "cell_type": "markdown",
   "metadata": {},
   "source": [
    "<h2>Islands"
   ]
  },
  {
   "cell_type": "code",
   "execution_count": 18,
   "metadata": {},
   "outputs": [],
   "source": [
    "one = g.edges\\\n",
    "    .groupBy('src', 'dst')\\\n",
    "    .count()\n",
    "two = g.edges.groupBy('dst', 'src')\\\n",
    "    .count()\\\n",
    "    .withColumnRenamed('dst', 'dst2')\\\n",
    "    .withColumnRenamed('src', 'src2')\\\n",
    "    .withColumnRenamed('count', 'count2')"
   ]
  },
  {
   "cell_type": "code",
   "execution_count": 19,
   "metadata": {},
   "outputs": [],
   "source": [
    "connections = one.join(two, (one.src == two.dst2) & (one.dst == two.src2)) \\\n",
    "    .withColumn('total', expr('count + count2'))\\\n",
    "    .select('src', 'dst', 'total')"
   ]
  },
  {
   "cell_type": "code",
   "execution_count": 20,
   "metadata": {},
   "outputs": [],
   "source": [
    "connections = connections.join(g.vertices, connections.src == g.vertices.id)\\\n",
    "    .selectExpr('src', 'name AS src_name', 'dst', 'total')\n",
    "connections = connections.join(g.vertices, connections.dst == g.vertices.id)\\\n",
    "    .selectExpr('src', 'src_name', 'dst', 'name AS dst_name', 'total')"
   ]
  },
  {
   "cell_type": "code",
   "execution_count": 21,
   "metadata": {},
   "outputs": [
    {
     "name": "stdout",
     "output_type": "stream",
     "text": [
      "+----+---------------------------------+----+---------------------------------+------+\n",
      "|src |src_name                         |dst |dst_name                         |total |\n",
      "+----+---------------------------------+----+---------------------------------+------+\n",
      "|2006|Central Park S & 6 Ave           |2006|Central Park S & 6 Ave           |114726|\n",
      "|281 |Grand Army Plaza & Central Park S|281 |Grand Army Plaza & Central Park S|49478 |\n",
      "|387 |Centre St & Chambers St          |387 |Centre St & Chambers St          |40142 |\n",
      "|499 |Broadway & W 60 St               |499 |Broadway & W 60 St               |38776 |\n",
      "|426 |West St & Chambers St            |514 |12 Ave & W 40 St                 |33392 |\n",
      "|514 |12 Ave & W 40 St                 |426 |West St & Chambers St            |33392 |\n",
      "|426 |West St & Chambers St            |426 |West St & Chambers St            |28768 |\n",
      "|509 |9 Ave & W 22 St                  |435 |W 21 St & 6 Ave                  |27635 |\n",
      "|435 |W 21 St & 6 Ave                  |509 |9 Ave & W 22 St                  |27635 |\n",
      "|514 |12 Ave & W 40 St                 |514 |12 Ave & W 40 St                 |27314 |\n",
      "|492 |W 33 St & 7 Ave                  |519 |E 42 St & Vanderbilt Ave         |25577 |\n",
      "|519 |E 42 St & Vanderbilt Ave         |492 |W 33 St & 7 Ave                  |25577 |\n",
      "|519 |Pershing Square North            |492 |W 33 St & 7 Ave                  |25577 |\n",
      "|492 |W 33 St & 7 Ave                  |519 |Pershing Square North            |25577 |\n",
      "|519 |Pershing Square N                |492 |W 33 St & 7 Ave                  |25577 |\n",
      "|492 |W 33 St & 7 Ave                  |519 |Pershing Square N                |25577 |\n",
      "|462 |W 22 St & 10 Ave                 |435 |W 21 St & 6 Ave                  |24716 |\n",
      "|435 |W 21 St & 6 Ave                  |462 |W 22 St & 10 Ave                 |24716 |\n",
      "|519 |E 42 St & Vanderbilt Ave         |477 |W 41 St & 8 Ave                  |24524 |\n",
      "|477 |W 41 St & 8 Ave                  |519 |E 42 St & Vanderbilt Ave         |24524 |\n",
      "+----+---------------------------------+----+---------------------------------+------+\n",
      "only showing top 20 rows\n",
      "\n"
     ]
    }
   ],
   "source": [
    "connections.orderBy('total', ascending=False)\\\n",
    "    .show(20, False)"
   ]
  },
  {
   "cell_type": "code",
   "execution_count": 23,
   "metadata": {},
   "outputs": [],
   "source": [
    "connections\\\n",
    "    .orderBy('total', ascending=False)\\\n",
    "    .repartition(1)\\\n",
    "    .write.format('com.databricks.spark.csv')\\\n",
    "    .option('header', 'true')\\\n",
    "    .save('gs://capstone-231016/s/connections')"
   ]
  },
  {
   "cell_type": "code",
   "execution_count": null,
   "metadata": {},
   "outputs": [],
   "source": []
  },
  {
   "cell_type": "code",
   "execution_count": null,
   "metadata": {},
   "outputs": [],
   "source": []
  }
 ],
 "metadata": {
  "kernelspec": {
   "display_name": "PySpark",
   "language": "python",
   "name": "pyspark"
  },
  "language_info": {
   "codemirror_mode": {
    "name": "ipython",
    "version": 3
   },
   "file_extension": ".py",
   "mimetype": "text/x-python",
   "name": "python",
   "nbconvert_exporter": "python",
   "pygments_lexer": "ipython3",
   "version": "3.6.5"
  }
 },
 "nbformat": 4,
 "nbformat_minor": 2
}