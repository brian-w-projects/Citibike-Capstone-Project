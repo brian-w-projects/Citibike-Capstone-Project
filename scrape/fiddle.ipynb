{
 "cells": [
  {
   "cell_type": "code",
   "execution_count": 132,
   "metadata": {},
   "outputs": [],
   "source": [
    "import requests\n",
    "import json\n",
    "from datetime import datetime, timedelta\n",
    "from dateutil import tz\n",
    "import re\n",
    "import csv\n",
    "\n",
    "from_zone = tz.gettz('UTC')\n",
    "to_zone = tz.gettz('America/New_York')\n",
    "key = ''\n",
    "lat = '40.730610'\n",
    "lon = '-73.935242'\n",
    "\n",
    "def scrape_weather(time=datetime(2013, 1, 1, 0, 0, 0, tzinfo=tz.gettz('America/New_York')), count=900):\n",
    "    with open('weather.csv', 'a', newline='') as csvfile:\n",
    "        writer = csv.writer(csvfile, delimiter=',')\n",
    "        for day_count in range(count):\n",
    "            print(time.strftime(\"%Y-%m-%dT%H:%M:%S%z\"))\n",
    "            url = 'https://api.darksky.net/forecast/{}/{},{},{}?exclude=currently,flags'.format(key, lat, lon, \n",
    "                                                                                                time.strftime(\"%Y-%m-%dT%H:%M:%S%z\")\n",
    "                                                                                               )\n",
    "            r = requests.get(url, 'json')\n",
    "            for hour in scrape_day(json.loads(r.content)):\n",
    "                writer.writerow(hour)\n",
    "            time += timedelta(days=1)"
   ]
  },
  {
   "cell_type": "code",
   "execution_count": 6,
   "metadata": {},
   "outputs": [
    {
     "name": "stdout",
     "output_type": "stream",
     "text": [
      "201501-citibike-tripdata.csv\n201501-citibike-tripdata.csv\n"
     ]
    },
    {
     "name": "stdout",
     "output_type": "stream",
     "text": [
      "201502-citibike-tripdata.csv\n201502-citibike-tripdata.csv\n"
     ]
    },
    {
     "name": "stdout",
     "output_type": "stream",
     "text": [
      "201503-citibike-tripdata.csv\n201503-citibike-tripdata.csv\n"
     ]
    },
    {
     "name": "stdout",
     "output_type": "stream",
     "text": [
      "201506-citibike-tripdata.csv\n201506-citibike-tripdata.csv\n"
     ]
    }
   ],
   "source": [
    "import csv\n",
    "from datetime import datetime\n",
    "import os\n",
    "from shutil import copyfile\n",
    "import re\n",
    "\n",
    "\n",
    "for file in os.listdir(os.path.join('D:/','raw-data')):\n",
    "    if re.match(r'^20150[1236]', file):\n",
    "        print(file)\n",
    "        inpath = os.path.join('D:/', 'raw-data/' + file)\n",
    "        outpath = os.path.join('D:/','formatted-data/' + file)\n",
    "        with open(inpath) as infile:\n",
    "            with open(outpath, 'w', newline='') as outfile:\n",
    "                print(file)\n",
    "                reader = csv.reader(infile, delimiter=',')\n",
    "                writer = csv.writer(outfile, delimiter=',')\n",
    "                writer.writerow(next(reader))\n",
    "                for row in reader:\n",
    "                    try:\n",
    "                        row[1] = str(datetime.strptime(row[1], '%m/%d/%Y %H:%M'))\n",
    "                        row[2] = str(datetime.strptime(row[2], '%m/%d/%Y %H:%M'))\n",
    "                        writer.writerow(row)\n",
    "                    except:\n",
    "                        print('Properly Formatted')\n",
    "                        copyfile(inpath, outpath)\n",
    "                        break\n"
   ]
  },
  {
   "cell_type": "code",
   "execution_count": null,
   "metadata": {},
   "outputs": [],
   "source": []
  },
  {
   "cell_type": "code",
   "execution_count": null,
   "metadata": {},
   "outputs": [],
   "source": []
  },
  {
   "cell_type": "code",
   "execution_count": null,
   "metadata": {},
   "outputs": [],
   "source": []
  },
  {
   "cell_type": "code",
   "execution_count": null,
   "metadata": {},
   "outputs": [],
   "source": []
  },
  {
   "cell_type": "code",
   "execution_count": null,
   "metadata": {},
   "outputs": [],
   "source": []
  },
  {
   "cell_type": "code",
   "execution_count": null,
   "metadata": {},
   "outputs": [],
   "source": []
  },
  {
   "cell_type": "code",
   "execution_count": null,
   "metadata": {},
   "outputs": [],
   "source": []
  }
 ],
 "metadata": {
  "kernelspec": {
   "display_name": "Python 3",
   "language": "python",
   "name": "python3"
  },
  "language_info": {
   "codemirror_mode": {
    "name": "ipython",
    "version": 3
   },
   "file_extension": ".py",
   "mimetype": "text/x-python",
   "name": "python",
   "nbconvert_exporter": "python",
   "pygments_lexer": "ipython3",
   "version": "3.6.8"
  }
 },
 "nbformat": 4,
 "nbformat_minor": 1
}
