{
 "cells": [
  {
   "cell_type": "code",
   "execution_count": 132,
   "metadata": {},
   "outputs": [],
   "source": [
    "import requests\n",
    "import json\n",
    "from datetime import datetime, timedelta\n",
    "from dateutil import tz\n",
    "import re\n",
    "import csv\n",
    "\n",
    "from_zone = tz.gettz('UTC')\n",
    "to_zone = tz.gettz('America/New_York')\n",
    "key = ''\n",
    "lat = '40.730610'\n",
    "lon = '-73.935242'\n",
    "\n",
    "def scrape_weather(time=datetime(2013, 1, 1, 0, 0, 0, tzinfo=tz.gettz('America/New_York')), count=900):\n",
    "    with open('weather.csv', 'a', newline='') as csvfile:\n",
    "        writer = csv.writer(csvfile, delimiter=',')\n",
    "        for day_count in range(count):\n",
    "            print(time.strftime(\"%Y-%m-%dT%H:%M:%S%z\"))\n",
    "            url = 'https://api.darksky.net/forecast/{}/{},{},{}?exclude=currently,flags'.format(key, lat, lon, \n",
    "                                                                                                time.strftime(\"%Y-%m-%dT%H:%M:%S%z\")\n",
    "                                                                                               )\n",
    "            r = requests.get(url, 'json')\n",
    "            for hour in scrape_day(json.loads(r.content)):\n",
    "                writer.writerow(hour)\n",
    "            time += timedelta(days=1)"
   ]
  },
  {
   "cell_type": "code",
   "execution_count": 133,
   "metadata": {},
   "outputs": [
    {
     "name": "stdout",
     "output_type": "stream",
     "text": [
      "2013-01-01T00:00:00-0500\n",
      "2013-01-02T00:00:00-0500\n"
     ]
    }
   ],
   "source": [
    "def scrape_day(day):\n",
    "    sunrise = day['daily']['data'][0]['sunriseTime']\n",
    "    sunset = day['daily']['data'][0]['sunsetTime']\n",
    "    \n",
    "    for ele in day['hourly']['data']:\n",
    "        hourly = []\n",
    "        hourly.append(\n",
    "            datetime.utcfromtimestamp(ele['time']).replace(tzinfo=from_zone).astimezone(to_zone).strftime('%Y-%m-%d %H:%M:%S')\n",
    "        )\n",
    "        if sunrise <= ele['time'] <= sunset:\n",
    "            hourly.append(1)\n",
    "        else:\n",
    "            hourly.append(0)\n",
    "        hourly.append(re.sub('(-night)|(-day)', '', ele['icon'].lower()))\n",
    "        hourly.append(ele['precipProbability'])\n",
    "        hourly.append(ele['apparentTemperature'])\n",
    "        hourly.append(ele['humidity'])\n",
    "        hourly.append(ele['windSpeed'])\n",
    "        yield hourly\n",
    "\n",
    "scrape_weather(count=2)"
   ]
  }
 ],
 "metadata": {
  "kernelspec": {
   "display_name": "Python 3",
   "language": "python",
   "name": "python3"
  },
  "language_info": {
   "codemirror_mode": {
    "name": "ipython",
    "version": 3
   },
   "file_extension": ".py",
   "mimetype": "text/x-python",
   "name": "python",
   "nbconvert_exporter": "python",
   "pygments_lexer": "ipython3",
   "version": "3.6.8"
  }
 },
 "nbformat": 4,
 "nbformat_minor": 1
}
